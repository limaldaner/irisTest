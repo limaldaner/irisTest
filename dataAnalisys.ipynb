{
 "cells": [
  {
   "cell_type": "code",
   "execution_count": 5,
   "metadata": {},
   "outputs": [],
   "source": [
    "###########################################################################\n",
    "#        3 Machine Learning algorithms evaluation with iris dataset\n",
    "#\n",
    "# France\n",
    "# November 2019\n",
    "#\n",
    "# Oriented by: Dr. R. Possamai and Ms. M. Trindade\n",
    "# Author: Liége Maldaner\n",
    "# E-mail: liege.malda@gmail.com\n",
    "#\n",
    "#\n",
    "# Results:\n",
    "###########################################################################\n",
    "\n",
    "# Packages\n",
    "import cv2\n",
    "import numpy as np\n",
    "import matplotlib.pyplot as plt\n",
    "import pandas as pd\n",
    "import _pickle as plk\n",
    "import os\n",
    "from io import StringIO\n",
    "import pylab as plt\n",
    "from glob import glob\n",
    "import argparse\n",
    "#import progressbar\n",
    "from numpy.lib import stride_tricks\n",
    "from skimage import feature\n",
    "from sklearn import metrics\n",
    "from sklearn.model_selection import train_test_split\n",
    "import time\n",
    "import mahotas as mt\n",
    "import random\n",
    "from sklearn.datasets import load_iris\n",
    "from sklearn.metrics import classification_report, confusion_matrix\n",
    "\n",
    "\n"
   ]
  },
  {
   "cell_type": "code",
   "execution_count": null,
   "metadata": {},
   "outputs": [],
   "source": []
  },
  {
   "cell_type": "code",
   "execution_count": 31,
   "metadata": {},
   "outputs": [],
   "source": [
    "def check_args(args):\n",
    "\n",
    "    if args.classifier != \"SVM\" and args.classifier != \"RF\" and args.classifier != \"GBC\":\n",
    "        raise ValueError(\"Classifier must be either SVM, RF or GBC\")\n",
    "\n",
    "    return args\n",
    "\n",
    "def parse_args():\n",
    "    parser = argparse.ArgumentParser()\n",
    "    parser.add_argument(\"-c\", \"--classifier\", help=\"Classification model to use\", required = True)\n",
    "    parser.add_argument(\"-o\", \"--output_model\", help=\"Path to save model. Must end in .p\", required = True)\n",
    "    args = parser.parse_args()\n",
    "    return check_args(args)\n",
    "\n",
    "def read_data():\n",
    "\n",
    "    print ('[INFO] Reading image data.')\n",
    "\n",
    "    iris = load_iris()\n",
    "    #feature_names = iris.feature_names\n",
    "    classes = iris.target\n",
    "    features = iris.data\n",
    "    \n",
    "    return features, classes\n",
    "\n",
    "def dataset(features, classes):   \n",
    "    print ('[INFO] Creating training dataset.')\n",
    "\n",
    "    X_train = []\n",
    "    X_test = []\n",
    "    \n",
    "    y_train = []\n",
    "    y_test = []\n",
    "    \n",
    "    TEST_PERC = 0.25\n",
    "    VAL_PERC = 0.10\n",
    "    TRAIN_PERC = 0.75\n",
    "    \n",
    "    totalNum = len(features)\n",
    "    testNum = int(TEST_PERC * totalNum)\n",
    "    valNum = int(VAL_PERC * totalNum)\n",
    "    trainNum = int(TRAIN_PERC * totalNum)\n",
    "    \n",
    "    index = np.arange(len(features))\n",
    "    random_train =  np.random.choice(index,trainNum)\n",
    "    random_test = np.random.choice(index,testNum)\n",
    "    random_val = np.random.choice(index,valNum)\n",
    "    \n",
    "    X_train = features[random_train]\n",
    "    X_test = features[random_test]\n",
    "    X_val = features[random_val]\n",
    "    \n",
    "    y_train = classes[random_train]\n",
    "    y_test = classes[random_test]\n",
    "    y_val = classes[random_val]\n",
    "    #for i in enumerate(features):\n",
    "    #    .append(features)\n",
    "        \n",
    "    return X_train, X_test, X_val, y_train, y_test, y_val\n"
   ]
  },
  {
   "cell_type": "code",
   "execution_count": null,
   "metadata": {},
   "outputs": [],
   "source": []
  },
  {
   "cell_type": "code",
   "execution_count": 25,
   "metadata": {},
   "outputs": [],
   "source": [
    "def train_model(X, y, classifier):\n",
    "\n",
    "    if classifier == \"SVM\":\n",
    "        from sklearn.svm import SVC\n",
    "        print ('[INFO] Training Support Vector Machine model.')\n",
    "        model = SVC()\n",
    "        model.fit(X, y)\n",
    "    elif classifier == \"RF\":\n",
    "        from sklearn.ensemble import RandomForestClassifier\n",
    "        print ('[INFO] Training Random Forest model.')\n",
    "        model = RandomForestClassifier(n_estimators=20, max_depth=12, random_state=0)\n",
    "        # n_estimators = The number of trees in the forest;\n",
    "        # max_depth = The maximum depth of the tree (tree size).\n",
    "        # random_state = If int, random_state is the seed used by the random number generator; \n",
    "        model.fit(X, y)\n",
    "    elif classifier == \"GBC\":\n",
    "        from sklearn.ensemble import GradientBoostingClassifier\n",
    "        model = GradientBoostingClassifier(n_estimators=20, learning_rate=1.0, max_depth=1, random_state=0)\n",
    "        # learning_rate = learning rate shrinks the contribution of each tree by learning_rate. \n",
    "        #There is a trade-off between learning_rate and n_estimators;\n",
    "        model.fit(X, y)\n",
    "\n",
    "    print ('[INFO] Model training complete.')\n",
    "    print ('[INFO] Training Accuracy: %.2f' %model.score(X, y))\n",
    "    return model"
   ]
  },
  {
   "cell_type": "code",
   "execution_count": null,
   "metadata": {},
   "outputs": [],
   "source": []
  },
  {
   "cell_type": "code",
   "execution_count": 35,
   "metadata": {},
   "outputs": [],
   "source": [
    "def test_model(X, y, model):\n",
    "\n",
    "    pred = model.predict(X)\n",
    "    precision = metrics.precision_score(y, pred, average='weighted', labels=np.unique(pred))\n",
    "    recall = metrics.recall_score(y, pred, average='weighted', labels=np.unique(pred))\n",
    "    f1 = metrics.f1_score(y, pred, average='weighted', labels=np.unique(pred))\n",
    "    accuracy = metrics.accuracy_score(y, pred)\n",
    "\n",
    "    print ('--------------------------------')\n",
    "    print('Confusion Matrix')\n",
    "    print(confusion_matrix(y, pred))\n",
    "    \n",
    "    print ('--------------------------------')\n",
    "    print('clssification report')\n",
    "    print(classification_report(y, pred))\n",
    "    \n",
    "    print ('--------------------------------')\n",
    "    print ('[RESULTS] Accuracy: %.2f' %accuracy)\n",
    "    print ('[RESULTS] Precision: %.2f' %precision)\n",
    "    print ('[RESULTS] Recall: %.2f' %recall)\n",
    "    print ('[RESULTS] F1: %.2f' %f1)\n",
    "    print ('--------------------------------')    \n",
    "    "
   ]
  },
  {
   "cell_type": "code",
   "execution_count": null,
   "metadata": {},
   "outputs": [],
   "source": []
  },
  {
   "cell_type": "code",
   "execution_count": 27,
   "metadata": {},
   "outputs": [],
   "source": [
    "def main(classifier):\n",
    "\n",
    "    start = time.time()\n",
    "\n",
    "    features, classes = read_data()\n",
    "    X_train, X_test, X_val, y_train, y_test, y_val = dataset(features, classes)\n",
    "    model = train_model(X_train, y_train, classifier)\n",
    "    test_model(X_test, y_test, model)\n",
    "    #pkl.dump(model, open(output_model, \"wb\"))\n",
    "    print ('Processing time:',time.time()-start)\n",
    "    "
   ]
  },
  {
   "cell_type": "code",
   "execution_count": 45,
   "metadata": {},
   "outputs": [
    {
     "name": "stdout",
     "output_type": "stream",
     "text": [
      "['setosa' 'versicolor' 'virginica']\n",
      "['sepal length (cm)', 'sepal width (cm)', 'petal length (cm)', 'petal width (cm)']\n"
     ]
    }
   ],
   "source": [
    "print(iris.target_names)\n",
    "print(iris.feature_names)"
   ]
  },
  {
   "cell_type": "code",
   "execution_count": 36,
   "metadata": {},
   "outputs": [
    {
     "name": "stdout",
     "output_type": "stream",
     "text": [
      "[INFO] Reading image data.\n",
      "[INFO] Creating training dataset.\n",
      "[INFO] Model training complete.\n",
      "[INFO] Training Accuracy: 1.00\n",
      "--------------------------------\n",
      "Confusion Matrix\n",
      "[[14  0  0]\n",
      " [ 0  8  1]\n",
      " [ 0  0 14]]\n",
      "--------------------------------\n",
      "clssification report\n",
      "              precision    recall  f1-score   support\n",
      "\n",
      "           0       1.00      1.00      1.00        14\n",
      "           1       1.00      0.89      0.94         9\n",
      "           2       0.93      1.00      0.97        14\n",
      "\n",
      "    accuracy                           0.97        37\n",
      "   macro avg       0.98      0.96      0.97        37\n",
      "weighted avg       0.97      0.97      0.97        37\n",
      "\n",
      "--------------------------------\n",
      "[RESULTS] Accuracy: 0.97\n",
      "[RESULTS] Precision: 0.97\n",
      "[RESULTS] Recall: 0.97\n",
      "[RESULTS] F1: 0.97\n",
      "--------------------------------\n",
      "Processing time: 0.04927515983581543\n"
     ]
    }
   ],
   "source": [
    "main('GBC')"
   ]
  },
  {
   "cell_type": "code",
   "execution_count": null,
   "metadata": {},
   "outputs": [],
   "source": []
  },
  {
   "cell_type": "code",
   "execution_count": 47,
   "metadata": {},
   "outputs": [
    {
     "name": "stdout",
     "output_type": "stream",
     "text": [
      "[INFO] Reading image data.\n",
      "[INFO] Creating training dataset.\n",
      "[INFO] Training Random Forest model.\n",
      "[INFO] Model training complete.\n",
      "[INFO] Training Accuracy: 1.00\n",
      "--------------------------------\n",
      "Confusion Matrix\n",
      "[[18  0  0]\n",
      " [ 0  8  0]\n",
      " [ 0  0 11]]\n",
      "--------------------------------\n",
      "clssification report\n",
      "              precision    recall  f1-score   support\n",
      "\n",
      "           0       1.00      1.00      1.00        18\n",
      "           1       1.00      1.00      1.00         8\n",
      "           2       1.00      1.00      1.00        11\n",
      "\n",
      "    accuracy                           1.00        37\n",
      "   macro avg       1.00      1.00      1.00        37\n",
      "weighted avg       1.00      1.00      1.00        37\n",
      "\n",
      "--------------------------------\n",
      "[RESULTS] Accuracy: 1.00\n",
      "[RESULTS] Precision: 1.00\n",
      "[RESULTS] Recall: 1.00\n",
      "[RESULTS] F1: 1.00\n",
      "--------------------------------\n",
      "Processing time: 0.0469813346862793\n"
     ]
    }
   ],
   "source": [
    "main('RF')"
   ]
  },
  {
   "cell_type": "code",
   "execution_count": 43,
   "metadata": {},
   "outputs": [
    {
     "ename": "AttributeError",
     "evalue": "classes_name",
     "output_type": "error",
     "traceback": [
      "\u001b[0;31m---------------------------------------------------------------------------\u001b[0m",
      "\u001b[0;31mKeyError\u001b[0m                                  Traceback (most recent call last)",
      "\u001b[0;32m~/opt/anaconda3/lib/python3.7/site-packages/sklearn/utils/__init__.py\u001b[0m in \u001b[0;36m__getattr__\u001b[0;34m(self, key)\u001b[0m\n\u001b[1;32m    104\u001b[0m         \u001b[0;32mtry\u001b[0m\u001b[0;34m:\u001b[0m\u001b[0;34m\u001b[0m\u001b[0;34m\u001b[0m\u001b[0m\n\u001b[0;32m--> 105\u001b[0;31m             \u001b[0;32mreturn\u001b[0m \u001b[0mself\u001b[0m\u001b[0;34m[\u001b[0m\u001b[0mkey\u001b[0m\u001b[0;34m]\u001b[0m\u001b[0;34m\u001b[0m\u001b[0;34m\u001b[0m\u001b[0m\n\u001b[0m\u001b[1;32m    106\u001b[0m         \u001b[0;32mexcept\u001b[0m \u001b[0mKeyError\u001b[0m\u001b[0;34m:\u001b[0m\u001b[0;34m\u001b[0m\u001b[0;34m\u001b[0m\u001b[0m\n",
      "\u001b[0;31mKeyError\u001b[0m: 'classes_name'",
      "\nDuring handling of the above exception, another exception occurred:\n",
      "\u001b[0;31mAttributeError\u001b[0m                            Traceback (most recent call last)",
      "\u001b[0;32m<ipython-input-43-83f83004e64c>\u001b[0m in \u001b[0;36m<module>\u001b[0;34m\u001b[0m\n\u001b[1;32m      1\u001b[0m \u001b[0miris\u001b[0m \u001b[0;34m=\u001b[0m \u001b[0mload_iris\u001b[0m\u001b[0;34m(\u001b[0m\u001b[0;34m)\u001b[0m\u001b[0;34m\u001b[0m\u001b[0;34m\u001b[0m\u001b[0m\n\u001b[0;32m----> 2\u001b[0;31m \u001b[0miris\u001b[0m\u001b[0;34m.\u001b[0m\u001b[0mclasses_name\u001b[0m\u001b[0;34m\u001b[0m\u001b[0;34m\u001b[0m\u001b[0m\n\u001b[0m",
      "\u001b[0;32m~/opt/anaconda3/lib/python3.7/site-packages/sklearn/utils/__init__.py\u001b[0m in \u001b[0;36m__getattr__\u001b[0;34m(self, key)\u001b[0m\n\u001b[1;32m    105\u001b[0m             \u001b[0;32mreturn\u001b[0m \u001b[0mself\u001b[0m\u001b[0;34m[\u001b[0m\u001b[0mkey\u001b[0m\u001b[0;34m]\u001b[0m\u001b[0;34m\u001b[0m\u001b[0;34m\u001b[0m\u001b[0m\n\u001b[1;32m    106\u001b[0m         \u001b[0;32mexcept\u001b[0m \u001b[0mKeyError\u001b[0m\u001b[0;34m:\u001b[0m\u001b[0;34m\u001b[0m\u001b[0;34m\u001b[0m\u001b[0m\n\u001b[0;32m--> 107\u001b[0;31m             \u001b[0;32mraise\u001b[0m \u001b[0mAttributeError\u001b[0m\u001b[0;34m(\u001b[0m\u001b[0mkey\u001b[0m\u001b[0;34m)\u001b[0m\u001b[0;34m\u001b[0m\u001b[0;34m\u001b[0m\u001b[0m\n\u001b[0m\u001b[1;32m    108\u001b[0m \u001b[0;34m\u001b[0m\u001b[0m\n\u001b[1;32m    109\u001b[0m     \u001b[0;32mdef\u001b[0m \u001b[0m__setstate__\u001b[0m\u001b[0;34m(\u001b[0m\u001b[0mself\u001b[0m\u001b[0;34m,\u001b[0m \u001b[0mstate\u001b[0m\u001b[0;34m)\u001b[0m\u001b[0;34m:\u001b[0m\u001b[0;34m\u001b[0m\u001b[0;34m\u001b[0m\u001b[0m\n",
      "\u001b[0;31mAttributeError\u001b[0m: classes_name"
     ]
    }
   ],
   "source": [
    "iris = load_iris()\n",
    "iris.classes_name"
   ]
  },
  {
   "cell_type": "code",
   "execution_count": 46,
   "metadata": {},
   "outputs": [
    {
     "name": "stdout",
     "output_type": "stream",
     "text": [
      "[INFO] Reading image data.\n",
      "[INFO] Creating training dataset.\n",
      "[INFO] Training Support Vector Machine model.\n",
      "[INFO] Model training complete.\n",
      "[INFO] Training Accuracy: 0.98\n",
      "--------------------------------\n",
      "Confusion Matrix\n",
      "[[18  0  0]\n",
      " [ 0  8  0]\n",
      " [ 0  0 11]]\n",
      "--------------------------------\n",
      "clssification report\n",
      "              precision    recall  f1-score   support\n",
      "\n",
      "           0       1.00      1.00      1.00        18\n",
      "           1       1.00      1.00      1.00         8\n",
      "           2       1.00      1.00      1.00        11\n",
      "\n",
      "    accuracy                           1.00        37\n",
      "   macro avg       1.00      1.00      1.00        37\n",
      "weighted avg       1.00      1.00      1.00        37\n",
      "\n",
      "--------------------------------\n",
      "[RESULTS] Accuracy: 1.00\n",
      "[RESULTS] Precision: 1.00\n",
      "[RESULTS] Recall: 1.00\n",
      "[RESULTS] F1: 1.00\n",
      "--------------------------------\n",
      "Processing time: 0.025807857513427734\n"
     ]
    },
    {
     "name": "stderr",
     "output_type": "stream",
     "text": [
      "/Users/liegemaldaner/opt/anaconda3/lib/python3.7/site-packages/sklearn/svm/base.py:193: FutureWarning: The default value of gamma will change from 'auto' to 'scale' in version 0.22 to account better for unscaled features. Set gamma explicitly to 'auto' or 'scale' to avoid this warning.\n",
      "  \"avoid this warning.\", FutureWarning)\n"
     ]
    }
   ],
   "source": [
    "main('SVM')"
   ]
  },
  {
   "cell_type": "code",
   "execution_count": null,
   "metadata": {},
   "outputs": [],
   "source": []
  },
  {
   "cell_type": "code",
   "execution_count": null,
   "metadata": {},
   "outputs": [],
   "source": []
  }
 ],
 "metadata": {
  "kernelspec": {
   "display_name": "Python 3",
   "language": "python",
   "name": "python3"
  },
  "language_info": {
   "codemirror_mode": {
    "name": "ipython",
    "version": 3
   },
   "file_extension": ".py",
   "mimetype": "text/x-python",
   "name": "python",
   "nbconvert_exporter": "python",
   "pygments_lexer": "ipython3",
   "version": "3.7.4"
  }
 },
 "nbformat": 4,
 "nbformat_minor": 2
}
